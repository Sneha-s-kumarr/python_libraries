{
  "nbformat": 4,
  "nbformat_minor": 0,
  "metadata": {
    "colab": {
      "provenance": [],
      "authorship_tag": "ABX9TyPFyCLvk7PcRPQ7IcTWzG1H",
      "include_colab_link": true
    },
    "kernelspec": {
      "name": "python3",
      "display_name": "Python 3"
    },
    "language_info": {
      "name": "python"
    }
  },
  "cells": [
    {
      "cell_type": "markdown",
      "metadata": {
        "id": "view-in-github",
        "colab_type": "text"
      },
      "source": [
        "<a href=\"https://colab.research.google.com/github/Sneha-s-kumarr/colab-projects/blob/main/icecream.ipynb\" target=\"_parent\"><img src=\"https://colab.research.google.com/assets/colab-badge.svg\" alt=\"Open In Colab\"/></a>"
      ]
    },
    {
      "cell_type": "markdown",
      "source": [
        "install icecream module"
      ],
      "metadata": {
        "id": "ouFIn8vwPcFZ"
      }
    },
    {
      "cell_type": "code",
      "execution_count": null,
      "metadata": {
        "colab": {
          "base_uri": "https://localhost:8080/"
        },
        "id": "w3RXI_L9p4RC",
        "outputId": "236f6d55-3b1f-4999-fd92-2268f0cf13ca"
      },
      "outputs": [
        {
          "output_type": "stream",
          "name": "stdout",
          "text": [
            "Looking in indexes: https://pypi.org/simple, https://us-python.pkg.dev/colab-wheels/public/simple/\n",
            "Collecting icecream\n",
            "  Downloading icecream-2.1.3-py2.py3-none-any.whl (8.4 kB)\n",
            "Requirement already satisfied: pygments>=2.2.0 in /usr/local/lib/python3.9/dist-packages (from icecream) (2.6.1)\n",
            "Collecting asttokens>=2.0.1\n",
            "  Downloading asttokens-2.2.1-py2.py3-none-any.whl (26 kB)\n",
            "Collecting executing>=0.3.1\n",
            "  Downloading executing-1.2.0-py2.py3-none-any.whl (24 kB)\n",
            "Collecting colorama>=0.3.9\n",
            "  Downloading colorama-0.4.6-py2.py3-none-any.whl (25 kB)\n",
            "Requirement already satisfied: six in /usr/local/lib/python3.9/dist-packages (from asttokens>=2.0.1->icecream) (1.16.0)\n",
            "Installing collected packages: executing, colorama, asttokens, icecream\n",
            "Successfully installed asttokens-2.2.1 colorama-0.4.6 executing-1.2.0 icecream-2.1.3\n"
          ]
        }
      ],
      "source": [
        "pip install icecream"
      ]
    },
    {
      "cell_type": "markdown",
      "source": [
        "Working with icecream module"
      ],
      "metadata": {
        "id": "OnpkAopMPfnG"
      }
    },
    {
      "cell_type": "code",
      "source": [
        "from icecream import ic\n",
        "NUMBER = 2008\n",
        "FLOAT = 95.47\n",
        "BOOLEAN = True\n",
        "STRING = \"sample\"\n",
        "LIST = [1, 2, 3, 4, 5]\n",
        "DICT = {\"name\": \"sample\", \"label\": \"test\"}\n",
        "\n",
        "ic(123)\n",
        "ic(NUMBER)\n",
        "ic(FLOAT)\n",
        "ic(BOOLEAN)\n",
        "ic(STRING)\n",
        "ic(LIST)\n",
        "ic(DICT)"
      ],
      "metadata": {
        "colab": {
          "base_uri": "https://localhost:8080/"
        },
        "id": "kJxGMIoPqDZg",
        "outputId": "7e5b7600-1ffa-4753-aaef-d4cd8d652722"
      },
      "execution_count": null,
      "outputs": [
        {
          "output_type": "stream",
          "name": "stderr",
          "text": [
            "ic| 123\n",
            "ic| NUMBER: 2008\n",
            "ic| FLOAT: 95.47\n",
            "ic| BOOLEAN: True\n",
            "ic| STRING: 'sample'\n",
            "ic| LIST: [1, 2, 3, 4, 5]\n",
            "ic| DICT: {'label': 'test', 'name': 'sample'}\n"
          ]
        },
        {
          "output_type": "execute_result",
          "data": {
            "text/plain": [
              "{'name': 'sample', 'label': 'test'}"
            ]
          },
          "metadata": {},
          "execution_count": 17
        }
      ]
    },
    {
      "cell_type": "code",
      "source": [],
      "metadata": {
        "id": "refgHmwFqGW8"
      },
      "execution_count": null,
      "outputs": []
    }
  ]
}